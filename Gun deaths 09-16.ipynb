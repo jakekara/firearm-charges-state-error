{
 "cells": [
  {
   "cell_type": "code",
   "execution_count": 1,
   "metadata": {
    "collapsed": true
   },
   "outputs": [],
   "source": [
    "import pandas as pd"
   ]
  },
  {
   "cell_type": "code",
   "execution_count": 2,
   "metadata": {
    "collapsed": false
   },
   "outputs": [
    {
     "name": "stdout",
     "output_type": "stream",
     "text": [
      "1\n"
     ]
    }
   ],
   "source": [
    "tables = pd.read_html(\"http://www.vpc.org/state-gun-death-rates-and-percent-change-2009-to-2016/\",skiprows=0)\n",
    "print len(tables)"
   ]
  },
  {
   "cell_type": "code",
   "execution_count": 3,
   "metadata": {
    "collapsed": true
   },
   "outputs": [],
   "source": [
    "df = tables[0]"
   ]
  },
  {
   "cell_type": "code",
   "execution_count": 4,
   "metadata": {
    "collapsed": false
   },
   "outputs": [],
   "source": [
    "df.columns = df.iloc[0]\n",
    "df = df.reindex(df.index.drop(0))\n"
   ]
  },
  {
   "cell_type": "code",
   "execution_count": 5,
   "metadata": {
    "collapsed": false
   },
   "outputs": [
    {
     "data": {
      "text/plain": [
       "51"
      ]
     },
     "execution_count": 5,
     "metadata": {},
     "output_type": "execute_result"
    }
   ],
   "source": [
    "len(df)"
   ]
  },
  {
   "cell_type": "code",
   "execution_count": 6,
   "metadata": {
    "collapsed": false
   },
   "outputs": [
    {
     "data": {
      "text/html": [
       "<div>\n",
       "<table border=\"1\" class=\"dataframe\">\n",
       "  <thead>\n",
       "    <tr style=\"text-align: right;\">\n",
       "      <th></th>\n",
       "      <th>State</th>\n",
       "      <th>Firearm Death Rate 2009</th>\n",
       "      <th>Firearm Death Rate 2016</th>\n",
       "      <th>Firearm Death Rate Percent Change, 2009 to 2016</th>\n",
       "    </tr>\n",
       "  </thead>\n",
       "  <tbody>\n",
       "    <tr>\n",
       "      <th>1</th>\n",
       "      <td>Alabama</td>\n",
       "      <td>17.63</td>\n",
       "      <td>21.51</td>\n",
       "      <td>22.0%</td>\n",
       "    </tr>\n",
       "    <tr>\n",
       "      <th>2</th>\n",
       "      <td>Alaska</td>\n",
       "      <td>14.89</td>\n",
       "      <td>23.86</td>\n",
       "      <td>60.2%</td>\n",
       "    </tr>\n",
       "    <tr>\n",
       "      <th>3</th>\n",
       "      <td>Arizona</td>\n",
       "      <td>12.98</td>\n",
       "      <td>15.78</td>\n",
       "      <td>21.6%</td>\n",
       "    </tr>\n",
       "    <tr>\n",
       "      <th>4</th>\n",
       "      <td>Arkansas</td>\n",
       "      <td>16.09</td>\n",
       "      <td>18.10</td>\n",
       "      <td>12.5%</td>\n",
       "    </tr>\n",
       "    <tr>\n",
       "      <th>5</th>\n",
       "      <td>California</td>\n",
       "      <td>8.37</td>\n",
       "      <td>8.11</td>\n",
       "      <td>-3.1%</td>\n",
       "    </tr>\n",
       "  </tbody>\n",
       "</table>\n",
       "</div>"
      ],
      "text/plain": [
       "0       State Firearm Death Rate 2009 Firearm Death Rate 2016  \\\n",
       "1     Alabama                   17.63                   21.51   \n",
       "2      Alaska                   14.89                   23.86   \n",
       "3     Arizona                   12.98                   15.78   \n",
       "4    Arkansas                   16.09                   18.10   \n",
       "5  California                    8.37                    8.11   \n",
       "\n",
       "0 Firearm Death Rate Percent Change, 2009 to 2016  \n",
       "1                                           22.0%  \n",
       "2                                           60.2%  \n",
       "3                                           21.6%  \n",
       "4                                           12.5%  \n",
       "5                                           -3.1%  "
      ]
     },
     "execution_count": 6,
     "metadata": {},
     "output_type": "execute_result"
    }
   ],
   "source": [
    "df.head()"
   ]
  },
  {
   "cell_type": "code",
   "execution_count": 7,
   "metadata": {
    "collapsed": false
   },
   "outputs": [
    {
     "name": "stdout",
     "output_type": "stream",
     "text": [
      "0\n",
      "State                                               object\n",
      "Firearm Death Rate 2009                             object\n",
      "Firearm Death Rate 2016                             object\n",
      "Firearm Death Rate Percent Change, 2009 to 2016    float64\n",
      "dtype: object\n"
     ]
    }
   ],
   "source": [
    "# drop \"%\"s\n",
    "df[df.columns[-1]] = df[df.columns[-1]].apply(lambda x: float(x.strip(\"%\")))\n",
    "print df.dtypes\n"
   ]
  },
  {
   "cell_type": "code",
   "execution_count": 8,
   "metadata": {
    "collapsed": false
   },
   "outputs": [],
   "source": [
    "for col in df.columns[1:]:\n",
    "    df[col] = pd.to_numeric(df[col])"
   ]
  },
  {
   "cell_type": "code",
   "execution_count": 9,
   "metadata": {
    "collapsed": false
   },
   "outputs": [
    {
     "data": {
      "text/html": [
       "<div>\n",
       "<table border=\"1\" class=\"dataframe\">\n",
       "  <thead>\n",
       "    <tr style=\"text-align: right;\">\n",
       "      <th></th>\n",
       "      <th>State</th>\n",
       "      <th>Firearm Death Rate 2009</th>\n",
       "      <th>Firearm Death Rate 2016</th>\n",
       "      <th>Firearm Death Rate Percent Change, 2009 to 2016</th>\n",
       "    </tr>\n",
       "  </thead>\n",
       "  <tbody>\n",
       "    <tr>\n",
       "      <th>21</th>\n",
       "      <td>Massachusetts</td>\n",
       "      <td>3.14</td>\n",
       "      <td>3.55</td>\n",
       "      <td>13.1</td>\n",
       "    </tr>\n",
       "    <tr>\n",
       "      <th>11</th>\n",
       "      <td>Hawaii</td>\n",
       "      <td>3.63</td>\n",
       "      <td>4.62</td>\n",
       "      <td>27.3</td>\n",
       "    </tr>\n",
       "    <tr>\n",
       "      <th>30</th>\n",
       "      <td>New Jersey</td>\n",
       "      <td>4.72</td>\n",
       "      <td>5.42</td>\n",
       "      <td>14.8</td>\n",
       "    </tr>\n",
       "    <tr>\n",
       "      <th>32</th>\n",
       "      <td>New York</td>\n",
       "      <td>4.90</td>\n",
       "      <td>4.56</td>\n",
       "      <td>-6.9</td>\n",
       "    </tr>\n",
       "    <tr>\n",
       "      <th>7</th>\n",
       "      <td>Connecticut</td>\n",
       "      <td>4.92</td>\n",
       "      <td>4.81</td>\n",
       "      <td>-2.2</td>\n",
       "    </tr>\n",
       "    <tr>\n",
       "      <th>39</th>\n",
       "      <td>Rhode Island</td>\n",
       "      <td>5.32</td>\n",
       "      <td>4.64</td>\n",
       "      <td>-12.8</td>\n",
       "    </tr>\n",
       "    <tr>\n",
       "      <th>23</th>\n",
       "      <td>Minnesota</td>\n",
       "      <td>6.38</td>\n",
       "      <td>7.83</td>\n",
       "      <td>22.7</td>\n",
       "    </tr>\n",
       "    <tr>\n",
       "      <th>15</th>\n",
       "      <td>Iowa</td>\n",
       "      <td>6.42</td>\n",
       "      <td>9.19</td>\n",
       "      <td>43.1</td>\n",
       "    </tr>\n",
       "    <tr>\n",
       "      <th>29</th>\n",
       "      <td>New Hampshire</td>\n",
       "      <td>6.72</td>\n",
       "      <td>9.89</td>\n",
       "      <td>47.2</td>\n",
       "    </tr>\n",
       "    <tr>\n",
       "      <th>27</th>\n",
       "      <td>Nebraska</td>\n",
       "      <td>7.35</td>\n",
       "      <td>8.97</td>\n",
       "      <td>22.0</td>\n",
       "    </tr>\n",
       "  </tbody>\n",
       "</table>\n",
       "</div>"
      ],
      "text/plain": [
       "0           State  Firearm Death Rate 2009  Firearm Death Rate 2016  \\\n",
       "21  Massachusetts                     3.14                     3.55   \n",
       "11         Hawaii                     3.63                     4.62   \n",
       "30     New Jersey                     4.72                     5.42   \n",
       "32       New York                     4.90                     4.56   \n",
       "7     Connecticut                     4.92                     4.81   \n",
       "39   Rhode Island                     5.32                     4.64   \n",
       "23      Minnesota                     6.38                     7.83   \n",
       "15           Iowa                     6.42                     9.19   \n",
       "29  New Hampshire                     6.72                     9.89   \n",
       "27       Nebraska                     7.35                     8.97   \n",
       "\n",
       "0   Firearm Death Rate Percent Change, 2009 to 2016  \n",
       "21                                             13.1  \n",
       "11                                             27.3  \n",
       "30                                             14.8  \n",
       "32                                             -6.9  \n",
       "7                                              -2.2  \n",
       "39                                            -12.8  \n",
       "23                                             22.7  \n",
       "15                                             43.1  \n",
       "29                                             47.2  \n",
       "27                                             22.0  "
      ]
     },
     "execution_count": 9,
     "metadata": {},
     "output_type": "execute_result"
    }
   ],
   "source": [
    "df.sort_values(by=\"Firearm Death Rate 2009\").head(10)"
   ]
  },
  {
   "cell_type": "code",
   "execution_count": 10,
   "metadata": {
    "collapsed": false
   },
   "outputs": [
    {
     "data": {
      "text/html": [
       "<div>\n",
       "<table border=\"1\" class=\"dataframe\">\n",
       "  <thead>\n",
       "    <tr style=\"text-align: right;\">\n",
       "      <th></th>\n",
       "      <th>State</th>\n",
       "      <th>Firearm Death Rate 2009</th>\n",
       "      <th>Firearm Death Rate 2016</th>\n",
       "      <th>Firearm Death Rate Percent Change, 2009 to 2016</th>\n",
       "    </tr>\n",
       "  </thead>\n",
       "  <tbody>\n",
       "    <tr>\n",
       "      <th>21</th>\n",
       "      <td>Massachusetts</td>\n",
       "      <td>3.14</td>\n",
       "      <td>3.55</td>\n",
       "      <td>13.1</td>\n",
       "    </tr>\n",
       "    <tr>\n",
       "      <th>32</th>\n",
       "      <td>New York</td>\n",
       "      <td>4.90</td>\n",
       "      <td>4.56</td>\n",
       "      <td>-6.9</td>\n",
       "    </tr>\n",
       "    <tr>\n",
       "      <th>11</th>\n",
       "      <td>Hawaii</td>\n",
       "      <td>3.63</td>\n",
       "      <td>4.62</td>\n",
       "      <td>27.3</td>\n",
       "    </tr>\n",
       "    <tr>\n",
       "      <th>39</th>\n",
       "      <td>Rhode Island</td>\n",
       "      <td>5.32</td>\n",
       "      <td>4.64</td>\n",
       "      <td>-12.8</td>\n",
       "    </tr>\n",
       "    <tr>\n",
       "      <th>7</th>\n",
       "      <td>Connecticut</td>\n",
       "      <td>4.92</td>\n",
       "      <td>4.81</td>\n",
       "      <td>-2.2</td>\n",
       "    </tr>\n",
       "    <tr>\n",
       "      <th>30</th>\n",
       "      <td>New Jersey</td>\n",
       "      <td>4.72</td>\n",
       "      <td>5.42</td>\n",
       "      <td>14.8</td>\n",
       "    </tr>\n",
       "    <tr>\n",
       "      <th>23</th>\n",
       "      <td>Minnesota</td>\n",
       "      <td>6.38</td>\n",
       "      <td>7.83</td>\n",
       "      <td>22.7</td>\n",
       "    </tr>\n",
       "    <tr>\n",
       "      <th>5</th>\n",
       "      <td>California</td>\n",
       "      <td>8.37</td>\n",
       "      <td>8.11</td>\n",
       "      <td>-3.1</td>\n",
       "    </tr>\n",
       "    <tr>\n",
       "      <th>27</th>\n",
       "      <td>Nebraska</td>\n",
       "      <td>7.35</td>\n",
       "      <td>8.97</td>\n",
       "      <td>22.0</td>\n",
       "    </tr>\n",
       "    <tr>\n",
       "      <th>15</th>\n",
       "      <td>Iowa</td>\n",
       "      <td>6.42</td>\n",
       "      <td>9.19</td>\n",
       "      <td>43.1</td>\n",
       "    </tr>\n",
       "  </tbody>\n",
       "</table>\n",
       "</div>"
      ],
      "text/plain": [
       "0           State  Firearm Death Rate 2009  Firearm Death Rate 2016  \\\n",
       "21  Massachusetts                     3.14                     3.55   \n",
       "32       New York                     4.90                     4.56   \n",
       "11         Hawaii                     3.63                     4.62   \n",
       "39   Rhode Island                     5.32                     4.64   \n",
       "7     Connecticut                     4.92                     4.81   \n",
       "30     New Jersey                     4.72                     5.42   \n",
       "23      Minnesota                     6.38                     7.83   \n",
       "5      California                     8.37                     8.11   \n",
       "27       Nebraska                     7.35                     8.97   \n",
       "15           Iowa                     6.42                     9.19   \n",
       "\n",
       "0   Firearm Death Rate Percent Change, 2009 to 2016  \n",
       "21                                             13.1  \n",
       "32                                             -6.9  \n",
       "11                                             27.3  \n",
       "39                                            -12.8  \n",
       "7                                              -2.2  \n",
       "30                                             14.8  \n",
       "23                                             22.7  \n",
       "5                                              -3.1  \n",
       "27                                             22.0  \n",
       "15                                             43.1  "
      ]
     },
     "execution_count": 10,
     "metadata": {},
     "output_type": "execute_result"
    }
   ],
   "source": [
    "df.sort_values(by=\"Firearm Death Rate 2016\").head(10)"
   ]
  },
  {
   "cell_type": "code",
   "execution_count": null,
   "metadata": {
    "collapsed": true
   },
   "outputs": [],
   "source": []
  }
 ],
 "metadata": {
  "kernelspec": {
   "display_name": "Python 2",
   "language": "python",
   "name": "python2"
  },
  "language_info": {
   "codemirror_mode": {
    "name": "ipython",
    "version": 2
   },
   "file_extension": ".py",
   "mimetype": "text/x-python",
   "name": "python",
   "nbconvert_exporter": "python",
   "pygments_lexer": "ipython2",
   "version": "2.7.13"
  }
 },
 "nbformat": 4,
 "nbformat_minor": 0
}
